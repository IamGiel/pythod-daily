{
 "cells": [
  {
   "cell_type": "code",
   "execution_count": null,
   "id": "56a72eee",
   "metadata": {},
   "outputs": [],
   "source": [
    "adj = input(\"Adjective: \")\n",
    "adj1 = input(\"Adjective: \")\n",
    "verb = input(\"Adjective: \")\n",
    "madlib = f\"computer programing is so {adj}.  It makes me so excited all the time ebcause \\\n",
    "    I love to {verb}.  Stay Hydrated and {adj1} like {famous_person}\""
   ]
  }
 ],
 "metadata": {
  "kernelspec": {
   "display_name": "Python 3 (ipykernel)",
   "language": "python",
   "name": "python3"
  },
  "language_info": {
   "codemirror_mode": {
    "name": "ipython",
    "version": 3
   },
   "file_extension": ".py",
   "mimetype": "text/x-python",
   "name": "python",
   "nbconvert_exporter": "python",
   "pygments_lexer": "ipython3",
   "version": "3.9.12"
  }
 },
 "nbformat": 4,
 "nbformat_minor": 5
}
